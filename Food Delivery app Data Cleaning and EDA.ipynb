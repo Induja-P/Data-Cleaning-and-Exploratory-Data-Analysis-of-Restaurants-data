{
 "cells": [
  {
   "cell_type": "code",
   "execution_count": null,
   "id": "f8ec07e1",
   "metadata": {},
   "outputs": [],
   "source": [
    "#import libraries\n",
    "import pandas as pd\n",
    "import numpy as np\n",
    "import matplotlib.pyplot as plt\n",
    "import seaborn as sns\n",
    "plt.style.use('dark_background')"
   ]
  },
  {
   "cell_type": "code",
   "execution_count": null,
   "id": "ce6013d3",
   "metadata": {},
   "outputs": [],
   "source": [
    "#reading the data\n",
    "df = pd.read_csv('zomato.csv')\n",
    "df.head()"
   ]
  },
  {
   "cell_type": "code",
   "execution_count": null,
   "id": "ffe3d342",
   "metadata": {},
   "outputs": [],
   "source": [
    "df.shape"
   ]
  },
  {
   "cell_type": "code",
   "execution_count": null,
   "id": "71800dde",
   "metadata": {},
   "outputs": [],
   "source": [
    "df.columns"
   ]
  },
  {
   "cell_type": "code",
   "execution_count": null,
   "id": "05c58d58",
   "metadata": {},
   "outputs": [],
   "source": [
    "#dropping the columns\n",
    "df = df.drop(['url', 'address','phone','menu_item','dish_liked','reviews_list'],axis=1)\n",
    "df.head()"
   ]
  },
  {
   "cell_type": "code",
   "execution_count": null,
   "id": "3b9c6d87",
   "metadata": {},
   "outputs": [],
   "source": [
    "df.info()"
   ]
  },
  {
   "cell_type": "code",
   "execution_count": null,
   "id": "a3641c2a",
   "metadata": {},
   "outputs": [],
   "source": [
    "df.drop_duplicates(inplace = True)\n",
    "df.shape"
   ]
  },
  {
   "cell_type": "code",
   "execution_count": null,
   "id": "cc6c0aa9",
   "metadata": {},
   "outputs": [],
   "source": [
    "df['rate'].unique()"
   ]
  },
  {
   "cell_type": "code",
   "execution_count": null,
   "id": "c114bcb1",
   "metadata": {},
   "outputs": [],
   "source": [
    "#function to clean the rate column\n",
    "def fixrate(value):\n",
    "    if(value=='NEW' or value=='-'):\n",
    "        return np.nan\n",
    "    else:\n",
    "        value = str(value).split('/')\n",
    "        value = value[0]\n",
    "        return float(value)\n",
    "\n",
    "df['rate'] = df['rate'].apply(fixrate)\n",
    "df['rate'].head()"
   ]
  },
  {
   "cell_type": "code",
   "execution_count": null,
   "id": "a81ff41b",
   "metadata": {},
   "outputs": [],
   "source": [
    "df.rate.isnull().sum()"
   ]
  },
  {
   "cell_type": "code",
   "execution_count": null,
   "id": "51121869",
   "metadata": {},
   "outputs": [],
   "source": [
    "df['rate'].fillna(df['rate'].mean(),inplace=True)\n",
    "df.rate.isnull().sum()"
   ]
  },
  {
   "cell_type": "code",
   "execution_count": null,
   "id": "cae65822",
   "metadata": {},
   "outputs": [],
   "source": [
    "df.info()"
   ]
  },
  {
   "cell_type": "code",
   "execution_count": null,
   "id": "922475e7",
   "metadata": {},
   "outputs": [],
   "source": [
    "df.dropna(inplace=True)\n",
    "df.head()"
   ]
  },
  {
   "cell_type": "code",
   "execution_count": null,
   "id": "2b6a4558",
   "metadata": {},
   "outputs": [],
   "source": [
    "df.info()"
   ]
  },
  {
   "cell_type": "code",
   "execution_count": null,
   "id": "9720bfa9",
   "metadata": {},
   "outputs": [],
   "source": [
    "#renaming columns\n",
    "df.rename(columns = {'approx_cost(for two people)':'cost2plates','listed_in(type)':'type'},inplace=True)\n",
    "df.head()"
   ]
  },
  {
   "cell_type": "code",
   "execution_count": null,
   "id": "790c3d92",
   "metadata": {},
   "outputs": [],
   "source": [
    "df['location'].unique()"
   ]
  },
  {
   "cell_type": "code",
   "execution_count": null,
   "id": "dd2eba78",
   "metadata": {},
   "outputs": [],
   "source": [
    "df['listed_in(city)'].unique()"
   ]
  },
  {
   "cell_type": "code",
   "execution_count": null,
   "id": "a3ff35eb",
   "metadata": {},
   "outputs": [],
   "source": [
    "df=df.drop(['listed_in(city)'],axis=1)"
   ]
  },
  {
   "cell_type": "code",
   "execution_count": null,
   "id": "a0c8eb9b",
   "metadata": {},
   "outputs": [],
   "source": [
    "df.head()"
   ]
  },
  {
   "cell_type": "code",
   "execution_count": null,
   "id": "8e828e2d",
   "metadata": {},
   "outputs": [],
   "source": [
    "df['cost2plates'].unique()"
   ]
  },
  {
   "cell_type": "code",
   "execution_count": null,
   "id": "97d49dbc",
   "metadata": {},
   "outputs": [],
   "source": [
    "#cleaning cost2plates \n",
    "def fixcomma(value):\n",
    "    value = str(value)\n",
    "    if ',' in value:\n",
    "        value = value.replace(',','')\n",
    "        return float(value)\n",
    "    else:\n",
    "        return float(value)\n",
    "    \n",
    "df['cost2plates'] = df['cost2plates'].apply(fixcomma)\n",
    "df['cost2plates'].unique()"
   ]
  },
  {
   "cell_type": "code",
   "execution_count": null,
   "id": "c77eda86",
   "metadata": {},
   "outputs": [],
   "source": [
    "df.head()"
   ]
  },
  {
   "cell_type": "code",
   "execution_count": null,
   "id": "201f203d",
   "metadata": {},
   "outputs": [],
   "source": [
    "df['rest_type'].value_counts()"
   ]
  },
  {
   "cell_type": "code",
   "execution_count": null,
   "id": "155bc19e",
   "metadata": {},
   "outputs": [],
   "source": [
    "rest_types = df['rest_type'].value_counts(ascending = False)\n",
    "rest_types"
   ]
  },
  {
   "cell_type": "code",
   "execution_count": null,
   "id": "c000c9cb",
   "metadata": {},
   "outputs": [],
   "source": [
    "rest_types_less1000 = rest_types[rest_types<1000]\n",
    "rest_types_less1000"
   ]
  },
  {
   "cell_type": "code",
   "execution_count": null,
   "id": "4aef2f41",
   "metadata": {},
   "outputs": [],
   "source": [
    "#cleaning rest_types\n",
    "def fixrest_type(value):\n",
    "    if(value in rest_types_less1000):\n",
    "        return 'others'\n",
    "    else:\n",
    "        return value\n",
    "    \n",
    "df['rest_type'] = df['rest_type'].apply(fixrest_type)\n",
    "df['rest_type'].value_counts()"
   ]
  },
  {
   "cell_type": "code",
   "execution_count": null,
   "id": "9e9da5e3",
   "metadata": {},
   "outputs": [],
   "source": [
    "df['location'].value_counts()"
   ]
  },
  {
   "cell_type": "code",
   "execution_count": null,
   "id": "042ffa61",
   "metadata": {},
   "outputs": [],
   "source": [
    "locations = df['location'].value_counts(ascending = False)\n",
    "locations"
   ]
  },
  {
   "cell_type": "code",
   "execution_count": null,
   "id": "6f97ea7e",
   "metadata": {},
   "outputs": [],
   "source": [
    "location_less300 = locations[locations<300]\n",
    "location_less300"
   ]
  },
  {
   "cell_type": "code",
   "execution_count": null,
   "id": "a317f666",
   "metadata": {},
   "outputs": [],
   "source": [
    "#cleaning location\n",
    "def fixlocation(value):\n",
    "    if(value in location_less300):\n",
    "        return 'others'\n",
    "    else:\n",
    "        return value\n",
    "\n",
    "df['location'] = df['location'].apply(fixlocation)\n",
    "df['location'].value_counts()"
   ]
  },
  {
   "cell_type": "code",
   "execution_count": null,
   "id": "d4d3bded",
   "metadata": {},
   "outputs": [],
   "source": [
    "df['cuisines'].value_counts()"
   ]
  },
  {
   "cell_type": "code",
   "execution_count": null,
   "id": "2199c8a0",
   "metadata": {},
   "outputs": [],
   "source": [
    "cuisine = df['cuisines'].value_counts(ascending = False)\n",
    "cuisine"
   ]
  },
  {
   "cell_type": "code",
   "execution_count": null,
   "id": "de8f7918",
   "metadata": {},
   "outputs": [],
   "source": [
    "cuisine_less100 = cuisine[cuisine<100]\n",
    "cuisine_less100"
   ]
  },
  {
   "cell_type": "code",
   "execution_count": null,
   "id": "b65ac5a7",
   "metadata": {},
   "outputs": [],
   "source": [
    "#cleaning cuisine\n",
    "def fixcuisine(value):\n",
    "    if(value in cuisine_less100):\n",
    "        return 'others'\n",
    "    else:\n",
    "        return value\n",
    "    \n",
    "df['cuisines'] = df['cuisines'].apply(fixcuisine)\n",
    "df['cuisines'].value_counts()"
   ]
  },
  {
   "cell_type": "code",
   "execution_count": null,
   "id": "a89d69ea",
   "metadata": {},
   "outputs": [],
   "source": [
    "df['type'].value_counts()"
   ]
  },
  {
   "cell_type": "code",
   "execution_count": null,
   "id": "4a2c4aec",
   "metadata": {},
   "outputs": [],
   "source": [
    "#plotting location,onlinee order,book_tale etc\n",
    "plt.figure(figsize=(16,10))\n",
    "ax = sns.countplot(df['location'])\n",
    "plt.xticks(rotation = 90)"
   ]
  },
  {
   "cell_type": "code",
   "execution_count": null,
   "id": "48533835",
   "metadata": {},
   "outputs": [],
   "source": [
    "plt.figure(figsize=(6,6))\n",
    "sns.countplot(df['online_order'],palette='inferno')"
   ]
  },
  {
   "cell_type": "code",
   "execution_count": null,
   "id": "1a17a646",
   "metadata": {},
   "outputs": [],
   "source": [
    "plt.figure(figsize=(6,6))\n",
    "sns.countplot(df['book_table'],palette='rainbow')"
   ]
  },
  {
   "cell_type": "code",
   "execution_count": null,
   "id": "f4bac8cb",
   "metadata": {},
   "outputs": [],
   "source": [
    "plt.figure(figsize=(6,6))\n",
    "sns.boxplot(x='online_order',y='rate',data = df)"
   ]
  },
  {
   "cell_type": "code",
   "execution_count": null,
   "id": "25ee77fb",
   "metadata": {},
   "outputs": [],
   "source": [
    "plt.figure(figsize=(6,6))\n",
    "sns.boxplot(x = 'book_table',y = 'rate',data = df)"
   ]
  },
  {
   "cell_type": "code",
   "execution_count": null,
   "id": "5e74c2a9",
   "metadata": {},
   "outputs": [],
   "source": [
    "#visualizing location vs order\n",
    "df_loc = df.groupby(['location','online_order'])['name'].count()\n",
    "df_loc.to_csv('location_online.csv')\n",
    "df_loc = pd.read_csv('location_online.csv')\n",
    "df_loc = pd.pivot_table(df_loc,values=None,index=['location'],columns=['online_order'],fill_value = 0,aggfunc = np.sum)\n",
    "df_loc"
   ]
  },
  {
   "cell_type": "code",
   "execution_count": null,
   "id": "5599c1ee",
   "metadata": {},
   "outputs": [],
   "source": [
    "df_loc.plot(kind = 'bar',figsize=(15,8))"
   ]
  },
  {
   "cell_type": "code",
   "execution_count": null,
   "id": "afb65d7e",
   "metadata": {},
   "outputs": [],
   "source": [
    "#visualizing location vs book_table\n",
    "df_book = df.groupby(['location','book_table'])['name'].count()\n",
    "df_book.to_csv('location_book.csv')\n",
    "df_book = pd.read_csv('location_book.csv')\n",
    "df_book = pd.pivot_table(df_book,values=None,index=['location'],columns=['book_table'],fill_value = 0,aggfunc = np.sum)\n",
    "df_book"
   ]
  },
  {
   "cell_type": "code",
   "execution_count": null,
   "id": "e5907841",
   "metadata": {},
   "outputs": [],
   "source": [
    "df_book.plot(kind ='bar',figsize=(15,8))"
   ]
  },
  {
   "cell_type": "code",
   "execution_count": null,
   "id": "f7cc5921",
   "metadata": {},
   "outputs": [],
   "source": [
    "plt.figure(figsize=(15,8))\n",
    "sns.boxplot(x='type',y='rate',data = df,palette = 'inferno')"
   ]
  },
  {
   "cell_type": "code",
   "execution_count": null,
   "id": "089b8e16",
   "metadata": {},
   "outputs": [],
   "source": [
    "#viualizing location vs type\n",
    "df_type = df.groupby(['location','type'])['name'].count()\n",
    "df_type.to_csv('location_type.csv')\n",
    "df_type = pd.read_csv('location_type.csv')\n",
    "df_type = pd.pivot_table(df_type,values=None,index=['location'],columns=['type'],fill_value = 0,aggfunc = np.sum)\n",
    "df_type"
   ]
  },
  {
   "cell_type": "code",
   "execution_count": null,
   "id": "b180e881",
   "metadata": {},
   "outputs": [],
   "source": [
    "df_type.plot(kind='bar',figsize=(36,8))"
   ]
  },
  {
   "cell_type": "code",
   "execution_count": null,
   "id": "7e66ae30",
   "metadata": {},
   "outputs": [],
   "source": [
    "#visualizing location vs votes\n",
    "df_vote = df[['location','votes']]\n",
    "df_vote.drop_duplicates()\n",
    "df_votes = df_vote.groupby(['location'])['votes'].sum()\n",
    "df_votes = df_votes.to_frame()\n",
    "df_votes = df_votes.sort_values('votes',ascending=False)\n",
    "df_votes.head()"
   ]
  },
  {
   "cell_type": "code",
   "execution_count": null,
   "id": "4a164d36",
   "metadata": {},
   "outputs": [],
   "source": [
    "plt.figure(figsize=(15,8))\n",
    "sns.barplot(df_votes.index,df_votes['votes'])\n",
    "plt.xticks(rotation = 90)"
   ]
  },
  {
   "cell_type": "code",
   "execution_count": null,
   "id": "578222f8",
   "metadata": {},
   "outputs": [],
   "source": [
    "#visualizing cuisine vs votes\n",
    "df_cuisine = df[['cuisines','votes']]\n",
    "df_cuisine.drop_duplicates()\n",
    "df_cuisines = df_cuisine.groupby(['cuisines'])['votes'].sum()\n",
    "df_cuisines = df_cuisines.to_frame()\n",
    "df_cuisines = df_cuisines.sort_values('votes',ascending=False)\n",
    "df_cuisines.head()"
   ]
  },
  {
   "cell_type": "code",
   "execution_count": null,
   "id": "5d4a4121",
   "metadata": {},
   "outputs": [],
   "source": [
    "df_cuisin = df_cuisines.iloc[1:,:]\n",
    "df_cuisin.head()"
   ]
  },
  {
   "cell_type": "code",
   "execution_count": null,
   "id": "d75dcd54",
   "metadata": {},
   "outputs": [],
   "source": [
    "plt.figure(figsize=(15,8))\n",
    "sns.barplot(df_cuisin.index,df_cuisin['votes'])\n",
    "plt.xticks(rotation = 90)"
   ]
  },
  {
   "cell_type": "code",
   "execution_count": null,
   "id": "e6db661a",
   "metadata": {},
   "outputs": [],
   "source": []
  }
 ],
 "metadata": {
  "kernelspec": {
   "display_name": "Python 3",
   "language": "python",
   "name": "python3"
  },
  "language_info": {
   "codemirror_mode": {
    "name": "ipython",
    "version": 3
   },
   "file_extension": ".py",
   "mimetype": "text/x-python",
   "name": "python",
   "nbconvert_exporter": "python",
   "pygments_lexer": "ipython3",
   "version": "3.8.8"
  }
 },
 "nbformat": 4,
 "nbformat_minor": 5
}
